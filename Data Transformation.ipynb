{
 "cells": [
  {
   "cell_type": "markdown",
   "id": "eef2b4be",
   "metadata": {},
   "source": [
    "# Import necessary libraries"
   ]
  },
  {
   "cell_type": "code",
   "execution_count": 132,
   "id": "65f9e4af",
   "metadata": {},
   "outputs": [],
   "source": [
    "import pandas as pd"
   ]
  },
  {
   "cell_type": "markdown",
   "id": "fd655543",
   "metadata": {},
   "source": [
    "# Load data"
   ]
  },
  {
   "cell_type": "code",
   "execution_count": 133,
   "id": "0f121c7d",
   "metadata": {
    "scrolled": true
   },
   "outputs": [],
   "source": [
    "data = pd.read_csv('../raw/data_raw.csv', encoding='ANSI')\n",
    "item_master_data = pd.read_csv('../raw/item_master.csv', encoding='ANSI')"
   ]
  },
  {
   "cell_type": "markdown",
   "id": "01c208a2",
   "metadata": {},
   "source": [
    "# Drop unnecessary columns"
   ]
  },
  {
   "cell_type": "code",
   "execution_count": 134,
   "id": "a5c7022f",
   "metadata": {},
   "outputs": [],
   "source": [
    "if(len(data.columns) == 17):\n",
    "    data.drop(['Branch', 'Cost Rate', 'Schm.Disc ', 'Bill Disc ', 'Doctor Name ', 'Patient Name ', 'Scheduler ', 'Batch No '], axis=1, inplace=True)"
   ]
  },
  {
   "cell_type": "markdown",
   "id": "431d2491",
   "metadata": {},
   "source": [
    "# Rename necessary common column"
   ]
  },
  {
   "cell_type": "code",
   "execution_count": 135,
   "id": "e57c4ab0",
   "metadata": {},
   "outputs": [],
   "source": [
    "data.rename(columns={'Prod Code': 'Product Code', ' ': 'Customer ID'}, inplace=True)"
   ]
  },
  {
   "cell_type": "markdown",
   "id": "df1e9e22",
   "metadata": {},
   "source": [
    "# Merge Dataframes to get subcat name"
   ]
  },
  {
   "cell_type": "code",
   "execution_count": 136,
   "id": "fc4c59cd",
   "metadata": {},
   "outputs": [
    {
     "data": {
      "text/html": [
       "<div>\n",
       "<style scoped>\n",
       "    .dataframe tbody tr th:only-of-type {\n",
       "        vertical-align: middle;\n",
       "    }\n",
       "\n",
       "    .dataframe tbody tr th {\n",
       "        vertical-align: top;\n",
       "    }\n",
       "\n",
       "    .dataframe thead th {\n",
       "        text-align: right;\n",
       "    }\n",
       "</style>\n",
       "<table border=\"1\" class=\"dataframe\">\n",
       "  <thead>\n",
       "    <tr style=\"text-align: right;\">\n",
       "      <th></th>\n",
       "      <th>Date</th>\n",
       "      <th>Bill No</th>\n",
       "      <th>Product Code</th>\n",
       "      <th>Prod Name</th>\n",
       "      <th>Qty</th>\n",
       "      <th>Sale Rate</th>\n",
       "      <th>MRP</th>\n",
       "      <th>Amount</th>\n",
       "      <th>Customer ID</th>\n",
       "      <th>SUB CAT NAME</th>\n",
       "    </tr>\n",
       "  </thead>\n",
       "  <tbody>\n",
       "    <tr>\n",
       "      <th>0</th>\n",
       "      <td>01-Mar-18</td>\n",
       "      <td>136200</td>\n",
       "      <td>7402</td>\n",
       "      <td>AMUL FRESH MILK GOLD PP 500ML</td>\n",
       "      <td>8.0</td>\n",
       "      <td>26.0</td>\n",
       "      <td>26.0</td>\n",
       "      <td>208.0</td>\n",
       "      <td>NaN</td>\n",
       "      <td>DAIRY</td>\n",
       "    </tr>\n",
       "    <tr>\n",
       "      <th>1</th>\n",
       "      <td>01-Mar-18</td>\n",
       "      <td>136201</td>\n",
       "      <td>7402</td>\n",
       "      <td>AMUL FRESH MILK GOLD PP 500ML</td>\n",
       "      <td>2.0</td>\n",
       "      <td>26.0</td>\n",
       "      <td>26.0</td>\n",
       "      <td>52.0</td>\n",
       "      <td>NaN</td>\n",
       "      <td>DAIRY</td>\n",
       "    </tr>\n",
       "    <tr>\n",
       "      <th>2</th>\n",
       "      <td>01-Mar-18</td>\n",
       "      <td>136205</td>\n",
       "      <td>7402</td>\n",
       "      <td>AMUL FRESH MILK GOLD PP 500ML</td>\n",
       "      <td>2.0</td>\n",
       "      <td>26.0</td>\n",
       "      <td>26.0</td>\n",
       "      <td>52.0</td>\n",
       "      <td>NaN</td>\n",
       "      <td>DAIRY</td>\n",
       "    </tr>\n",
       "    <tr>\n",
       "      <th>3</th>\n",
       "      <td>01-Mar-18</td>\n",
       "      <td>136210</td>\n",
       "      <td>7402</td>\n",
       "      <td>AMUL FRESH MILK GOLD PP 500ML</td>\n",
       "      <td>2.0</td>\n",
       "      <td>26.0</td>\n",
       "      <td>26.0</td>\n",
       "      <td>52.0</td>\n",
       "      <td>1996.0</td>\n",
       "      <td>DAIRY</td>\n",
       "    </tr>\n",
       "    <tr>\n",
       "      <th>4</th>\n",
       "      <td>01-Mar-18</td>\n",
       "      <td>136219</td>\n",
       "      <td>7402</td>\n",
       "      <td>AMUL FRESH MILK GOLD PP 500ML</td>\n",
       "      <td>2.0</td>\n",
       "      <td>26.0</td>\n",
       "      <td>26.0</td>\n",
       "      <td>52.0</td>\n",
       "      <td>NaN</td>\n",
       "      <td>DAIRY</td>\n",
       "    </tr>\n",
       "    <tr>\n",
       "      <th>...</th>\n",
       "      <td>...</td>\n",
       "      <td>...</td>\n",
       "      <td>...</td>\n",
       "      <td>...</td>\n",
       "      <td>...</td>\n",
       "      <td>...</td>\n",
       "      <td>...</td>\n",
       "      <td>...</td>\n",
       "      <td>...</td>\n",
       "      <td>...</td>\n",
       "    </tr>\n",
       "    <tr>\n",
       "      <th>894629</th>\n",
       "      <td>29-Apr-17</td>\n",
       "      <td>11279</td>\n",
       "      <td>12927</td>\n",
       "      <td>BARBIE TLC SPRING ROSE 200GM</td>\n",
       "      <td>1.0</td>\n",
       "      <td>100.0</td>\n",
       "      <td>100.0</td>\n",
       "      <td>100.0</td>\n",
       "      <td>975.0</td>\n",
       "      <td>DEO &amp; ANTIPERSPIRANTS</td>\n",
       "    </tr>\n",
       "    <tr>\n",
       "      <th>894630</th>\n",
       "      <td>29-Apr-17</td>\n",
       "      <td>11556</td>\n",
       "      <td>16712</td>\n",
       "      <td>AL FAHAD MTN MEAT BALL 250GM</td>\n",
       "      <td>1.0</td>\n",
       "      <td>250.0</td>\n",
       "      <td>250.0</td>\n",
       "      <td>250.0</td>\n",
       "      <td>NaN</td>\n",
       "      <td>COLD &amp; FROZEN FOODS</td>\n",
       "    </tr>\n",
       "    <tr>\n",
       "      <th>894631</th>\n",
       "      <td>30-Apr-17</td>\n",
       "      <td>11829</td>\n",
       "      <td>7420</td>\n",
       "      <td>NILONS CUT SEWAIYAN 175GM</td>\n",
       "      <td>1.0</td>\n",
       "      <td>15.0</td>\n",
       "      <td>15.0</td>\n",
       "      <td>15.0</td>\n",
       "      <td>NaN</td>\n",
       "      <td>INSTANT MEALS</td>\n",
       "    </tr>\n",
       "    <tr>\n",
       "      <th>894632</th>\n",
       "      <td>30-Apr-17</td>\n",
       "      <td>11954</td>\n",
       "      <td>7592</td>\n",
       "      <td>CANTINA 8 CORN TORTILLAS 200G</td>\n",
       "      <td>1.0</td>\n",
       "      <td>295.0</td>\n",
       "      <td>295.0</td>\n",
       "      <td>295.0</td>\n",
       "      <td>1555.0</td>\n",
       "      <td>GOURMET ETHNIC CUISINES</td>\n",
       "    </tr>\n",
       "    <tr>\n",
       "      <th>894633</th>\n",
       "      <td>30-Apr-17</td>\n",
       "      <td>11982</td>\n",
       "      <td>15972</td>\n",
       "      <td>MILANGE PRFM BLKBRN 5 135ML</td>\n",
       "      <td>2.0</td>\n",
       "      <td>125.0</td>\n",
       "      <td>250.0</td>\n",
       "      <td>250.0</td>\n",
       "      <td>NaN</td>\n",
       "      <td>DEO &amp; ANTIPERSPIRANTS</td>\n",
       "    </tr>\n",
       "  </tbody>\n",
       "</table>\n",
       "<p>894634 rows × 10 columns</p>\n",
       "</div>"
      ],
      "text/plain": [
       "             Date  Bill No  Product Code                      Prod Name  Qty   \\\n",
       "0       01-Mar-18   136200          7402  AMUL FRESH MILK GOLD PP 500ML   8.0   \n",
       "1       01-Mar-18   136201          7402  AMUL FRESH MILK GOLD PP 500ML   2.0   \n",
       "2       01-Mar-18   136205          7402  AMUL FRESH MILK GOLD PP 500ML   2.0   \n",
       "3       01-Mar-18   136210          7402  AMUL FRESH MILK GOLD PP 500ML   2.0   \n",
       "4       01-Mar-18   136219          7402  AMUL FRESH MILK GOLD PP 500ML   2.0   \n",
       "...           ...      ...           ...                            ...   ...   \n",
       "894629  29-Apr-17    11279         12927   BARBIE TLC SPRING ROSE 200GM   1.0   \n",
       "894630  29-Apr-17    11556         16712   AL FAHAD MTN MEAT BALL 250GM   1.0   \n",
       "894631  30-Apr-17    11829          7420      NILONS CUT SEWAIYAN 175GM   1.0   \n",
       "894632  30-Apr-17    11954          7592  CANTINA 8 CORN TORTILLAS 200G   1.0   \n",
       "894633  30-Apr-17    11982         15972    MILANGE PRFM BLKBRN 5 135ML   2.0   \n",
       "\n",
       "        Sale Rate    MRP  Amount  Customer ID             SUB CAT NAME  \n",
       "0            26.0   26.0   208.0          NaN                    DAIRY  \n",
       "1            26.0   26.0    52.0          NaN                    DAIRY  \n",
       "2            26.0   26.0    52.0          NaN                    DAIRY  \n",
       "3            26.0   26.0    52.0       1996.0                    DAIRY  \n",
       "4            26.0   26.0    52.0          NaN                    DAIRY  \n",
       "...           ...    ...     ...          ...                      ...  \n",
       "894629      100.0  100.0   100.0        975.0    DEO & ANTIPERSPIRANTS  \n",
       "894630      250.0  250.0   250.0          NaN      COLD & FROZEN FOODS  \n",
       "894631       15.0   15.0    15.0          NaN            INSTANT MEALS  \n",
       "894632      295.0  295.0   295.0       1555.0  GOURMET ETHNIC CUISINES  \n",
       "894633      125.0  250.0   250.0          NaN    DEO & ANTIPERSPIRANTS  \n",
       "\n",
       "[894634 rows x 10 columns]"
      ]
     },
     "execution_count": 136,
     "metadata": {},
     "output_type": "execute_result"
    }
   ],
   "source": [
    "merged_df = pd.merge(data, item_master_data[['Product Code', 'SUB CAT NAME']], on='Product Code', how='inner')\n",
    "merged_df"
   ]
  },
  {
   "cell_type": "markdown",
   "id": "3062a2e2",
   "metadata": {},
   "source": [
    "# Remove NA customers and 1 Customers"
   ]
  },
  {
   "cell_type": "code",
   "execution_count": 137,
   "id": "b302229d",
   "metadata": {},
   "outputs": [],
   "source": [
    "merged_df.dropna(subset=['Customer ID'], inplace=True)\n",
    "mergded_df = merged_df[merged_df['Customer ID'] != 1]\n",
    "merged_df.to_csv('new_transformed_data.csv')"
   ]
  }
 ],
 "metadata": {
  "kernelspec": {
   "display_name": "Python 3 (ipykernel)",
   "language": "python",
   "name": "python3"
  },
  "language_info": {
   "codemirror_mode": {
    "name": "ipython",
    "version": 3
   },
   "file_extension": ".py",
   "mimetype": "text/x-python",
   "name": "python",
   "nbconvert_exporter": "python",
   "pygments_lexer": "ipython3",
   "version": "3.9.16"
  }
 },
 "nbformat": 4,
 "nbformat_minor": 5
}
