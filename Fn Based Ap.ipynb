{
 "cells": [
  {
   "cell_type": "markdown",
   "id": "86cb1bf5",
   "metadata": {},
   "source": [
    "# Import necessary libraries"
   ]
  },
  {
   "cell_type": "code",
   "execution_count": 43,
   "id": "8dba756e",
   "metadata": {},
   "outputs": [],
   "source": [
    "import pandas as pd\n",
    "from apyori import apriori\n",
    "import ast\n",
    "import datetime"
   ]
  },
  {
   "cell_type": "markdown",
   "id": "cd817fd2",
   "metadata": {},
   "source": [
    "# Variables for global usage and finalized output"
   ]
  },
  {
   "cell_type": "code",
   "execution_count": 14,
   "id": "50d3bf2e",
   "metadata": {},
   "outputs": [],
   "source": [
    "all_consequents, all_antecedents, all_conf, all_lift = [], [], [], []"
   ]
  },
  {
   "cell_type": "code",
   "execution_count": 38,
   "id": "bca73e36",
   "metadata": {},
   "outputs": [],
   "source": [
    "def apriori_rg(dataset, min_support_):\n",
    "    antecedents, consequents, consequent_conf, consequent_lift = [], [], [], []\n",
    "    transactions = []\n",
    "    for x in dataset:\n",
    "        transactions.append(x)\n",
    "    rules = list(apriori(transactions, min_support = min_support_, min_confidence = 0.7, min_lift = 1.5))\n",
    "    \n",
    "    print(f\"*** Total number of rules formulated: {len(rules)} ***\")\n",
    "    \n",
    "    for i in rules:\n",
    "        base_item_set = str(i[2][0].items_base).removeprefix(\"frozenset({\").removesuffix(\"})\")\n",
    "        add_item_set = str(i[2][0].items_add).removeprefix(\"frozenset({\").removesuffix(\"})\")\n",
    "        confidence = f\"{round(i[2][0].confidence * 100,2)}\"\n",
    "        lift = f\"{round(i[2][0].lift,2)}\"\n",
    "        if add_item_set not in consequents:\n",
    "            antecedents.append(base_item_set)\n",
    "            consequents.append(add_item_set)\n",
    "            consequent_conf.append(float(confidence))\n",
    "            consequent_lift.append(float(lift))\n",
    "            if add_item_set not in all_consequents:\n",
    "                all_antecedents.append(base_item_set)\n",
    "                all_consequents.append(add_item_set)\n",
    "                all_conf.append(float(confidence))\n",
    "                all_lift.append(float(lift))\n",
    "        else:\n",
    "            prev_conf = consequent_conf[consequents.index(add_item_set)]\n",
    "            if(float(confidence) > prev_conf):\n",
    "                antecedents[consequents.index(add_item_set)] = base_item_set\n",
    "                all_antecedents[consequents.index(add_item_set)] = base_item_set\n",
    "                consequent_conf[consequents.index(add_item_set)] = float(confidence)\n",
    "                all_conf[consequents.index(add_item_set)] = float(confidence)\n",
    "                consequent_lift[consequents.index(add_item_set)] = float(lift)\n",
    "                all_lift[consequents.index(add_item_set)] = float(lift)\n",
    "    print(f\"*** Total number of strong rules: {len(consequents)} ***\")\n",
    "    print(\"Market Basket Analysis Rules\", end=\"\\n\\n\")\n",
    "    for i in range(len(consequents)):\n",
    "        print(f\"Item set 1: {antecedents[i]}\\nItem set 2: {consequents[i]}\\nconfidence = {consequent_conf[i]}%\\nlift = {consequent_lift[i]}\", end=\"\\n\\n\")"
   ]
  },
  {
   "cell_type": "code",
   "execution_count": 42,
   "id": "03ff6d18",
   "metadata": {
    "collapsed": true
   },
   "outputs": [
    {
     "name": "stdout",
     "output_type": "stream",
     "text": [
      "*** Total number of rules formulated: 668 ***\n",
      "*** Total number of strong rules: 16 ***\n",
      "Market Basket Analysis Rules\n",
      "\n",
      "Item set 1: 'DETERGENTS', 'COFFEE'\n",
      "Item set 2: 'BAKERY ITEMS'\n",
      "confidence = 95.0%\n",
      "lift = 2.34\n",
      "\n",
      "Item set 1: 'BISCUITS', 'NAMKEENS', 'CHIPS', 'BAKERY ITEMS'\n",
      "Item set 2: 'DAIRY'\n",
      "confidence = 90.91%\n",
      "lift = 2.31\n",
      "\n",
      "Item set 1: 'HEALTHDRINKS', 'CHOCOLATES'\n",
      "Item set 2: 'BISCUITS'\n",
      "confidence = 100.0%\n",
      "lift = 2.94\n",
      "\n",
      "Item set 1: 'INSTANT SNACKS', 'DAIRY', 'BATH SOAP & BODYWASH'\n",
      "Item set 2: 'FLOOR CLEANERS'\n",
      "confidence = 100.0%\n",
      "lift = 2.06\n",
      "\n",
      "Item set 1: 'BISCUITS', 'DAL&PULSES', 'TEA'\n",
      "Item set 2: 'FLOURS'\n",
      "confidence = 82.61%\n",
      "lift = 4.33\n",
      "\n",
      "Item set 1: 'WHOLE SPICES', 'WHOLE CEREALS'\n",
      "Item set 2: 'DAL&PULSES'\n",
      "confidence = 84.0%\n",
      "lift = 5.69\n",
      "\n",
      "Item set 1: 'JUICES', 'COFFEE'\n",
      "Item set 2: 'CARBONATED'\n",
      "confidence = 70.0%\n",
      "lift = 3.67\n",
      "\n",
      "Item set 1: 'JUICES', 'COFFEE', 'BAKERY ITEMS'\n",
      "Item set 2: 'COLD & FROZEN FOODS'\n",
      "confidence = 76.0%\n",
      "lift = 3.5\n",
      "\n",
      "Item set 1: 'INSTANT SNACKS', 'BATH SOAP & BODYWASH', 'BAKERY ITEMS'\n",
      "Item set 2: 'BISCUITS', 'FLOOR CLEANERS'\n",
      "confidence = 90.48%\n",
      "lift = 4.33\n",
      "\n",
      "Item set 1: 'INSTANT SNACKS', 'DETERGENTS'\n",
      "Item set 2: 'BISCUITS', 'BAKERY ITEMS'\n",
      "confidence = 70.27%\n",
      "lift = 3.71\n",
      "\n",
      "Item set 1: 'COFFEE', 'CARBONATED', 'BAKERY ITEMS'\n",
      "Item set 2: 'JUICES'\n",
      "confidence = 70.37%\n",
      "lift = 7.64\n",
      "\n",
      "Item set 1: 'FLOOR CLEANERS', 'DETERGENTS', 'BAKERY ITEMS'\n",
      "Item set 2: 'INSTANT SNACKS'\n",
      "confidence = 75.76%\n",
      "lift = 3.43\n",
      "\n",
      "Item set 1: 'BISCUITS', 'MASALA & GROUND SPICE  POWDER', 'DAIRY'\n",
      "Item set 2: 'NAMKEENS'\n",
      "confidence = 74.07%\n",
      "lift = 3.7\n",
      "\n",
      "Item set 1: 'HEALTHDRINKS', 'CHOCOLATES'\n",
      "Item set 2: 'BISCUITS', 'DAIRY'\n",
      "confidence = 82.61%\n",
      "lift = 5.25\n",
      "\n",
      "Item set 1: 'BISCUITS', 'MASALA & GROUND SPICE  POWDER', 'DAL&PULSES'\n",
      "Item set 2: 'WHOLE SPICES'\n",
      "confidence = 71.43%\n",
      "lift = 6.41\n",
      "\n",
      "Item set 1: 'BISCUITS', 'DAL&PULSES', 'BATH SOAP & BODYWASH'\n",
      "Item set 2: 'FLOOR CLEANERS', 'FLOURS'\n",
      "confidence = 76.92%\n",
      "lift = 7.26\n",
      "\n"
     ]
    }
   ],
   "source": [
    "apriori_rg(pd.read_csv('./freq_transactions.csv', header = None)[0][1:].apply(ast.literal_eval), 0.02)"
   ]
  },
  {
   "cell_type": "code",
   "execution_count": 48,
   "id": "0a912f3c",
   "metadata": {},
   "outputs": [
    {
     "data": {
      "text/plain": [
       "['2023-07-26', '14:58:51.987148']"
      ]
     },
     "execution_count": 48,
     "metadata": {},
     "output_type": "execute_result"
    }
   ],
   "source": [
    "now = str(datetime.datetime.now())\n",
    "list_dt = now.split()\n",
    "list_dt\n",
    "# Work in Progress"
   ]
  },
  {
   "cell_type": "markdown",
   "id": "a5d6078b",
   "metadata": {},
   "source": [
    "# **Some finishing touches still remaiuning, Work still in progress. "
   ]
  }
 ],
 "metadata": {
  "kernelspec": {
   "display_name": "Python 3 (ipykernel)",
   "language": "python",
   "name": "python3"
  },
  "language_info": {
   "codemirror_mode": {
    "name": "ipython",
    "version": 3
   },
   "file_extension": ".py",
   "mimetype": "text/x-python",
   "name": "python",
   "nbconvert_exporter": "python",
   "pygments_lexer": "ipython3",
   "version": "3.9.16"
  }
 },
 "nbformat": 4,
 "nbformat_minor": 5
}
