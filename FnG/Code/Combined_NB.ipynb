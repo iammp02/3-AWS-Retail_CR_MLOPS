{
 "cells": [
  {
   "cell_type": "markdown",
   "id": "82e6687d",
   "metadata": {},
   "source": [
    "# Customer Segementation"
   ]
  },
  {
   "cell_type": "code",
   "execution_count": 60,
   "id": "6aaf8e24",
   "metadata": {},
   "outputs": [],
   "source": [
    "import numpy as np\n",
    "import pandas as pd\n",
    "import plotly.express as px\n",
    "import matplotlib.pyplot as plt\n",
    "import seaborn as sns\n",
    "from sklearn import preprocessing\n",
    "import statsmodels.api as sm\n",
    "import time\n",
    "from datetime import datetime,timedelta\n",
    "import warnings\n",
    "warnings.filterwarnings(\"ignore\") \n",
    "import scipy.stats as stats"
   ]
  },
  {
   "cell_type": "code",
   "execution_count": 61,
   "id": "2021fe1c",
   "metadata": {},
   "outputs": [],
   "source": [
    "# df = pd.read_csv(\"../updated_pos_no2.csv\")\n",
    "df = pd.read_csv('Transformed_data.csv')"
   ]
  },
  {
   "cell_type": "code",
   "execution_count": 62,
   "id": "cab9612b",
   "metadata": {},
   "outputs": [],
   "source": [
    "df['Date'].max()\n",
    "df['Date'] = pd.to_datetime(df['Date'])\n",
    "snapshot_day = df['Date'].max() + timedelta(days=1)\n",
    "days_ago_series = (snapshot_day-df['Date']).astype('timedelta64[D]').astype(int)"
   ]
  },
  {
   "cell_type": "code",
   "execution_count": 63,
   "id": "954c7be0",
   "metadata": {},
   "outputs": [],
   "source": [
    "RFM = df.groupby('Customer ID').agg(Recency=('Date',lambda x :(snapshot_day - x.max())))\n",
    "RFM['Frequency']= df.groupby('Customer ID').agg(Frequency=('Bill No','count'))\n",
    "RFM['Monetary'] = df.groupby('Customer ID').agg(Monetary=('Amount','sum'))"
   ]
  },
  {
   "cell_type": "code",
   "execution_count": 64,
   "id": "c3055897",
   "metadata": {},
   "outputs": [],
   "source": [
    "recency_labels = range(4,0,-1) #lowest value is given the highest ranking coz it tells that person has bought recently \n",
    "\n",
    "RFM['R_score'] = pd.qcut(RFM['Recency'], q=4,labels=recency_labels)\n",
    "\n",
    "Frequency_labels = range(1,5)\n",
    "\n",
    "RFM['F_score'] = pd.qcut(RFM['Frequency'], q=4,labels=Frequency_labels)\n",
    "\n",
    "Monetary_labels = range(1,5)\n",
    "\n",
    "RFM['M_score'] = pd.qcut(RFM['Monetary'], q=4,labels=Monetary_labels)\n",
    "\n",
    "RFM['rfm_total_score'] = RFM['R_score'].astype(int)+RFM['F_score'].astype(int)+RFM['M_score'].astype(int)\n",
    "\n",
    "RFM_Segments = (RFM['R_score'].astype(str) + '.'+ RFM['F_score'].astype(str)+'.' + RFM['M_score'].astype(str))\n",
    "\n",
    "RFM['Segments'] = RFM_Segments"
   ]
  },
  {
   "cell_type": "code",
   "execution_count": 65,
   "id": "e8bcf1a4",
   "metadata": {},
   "outputs": [],
   "source": [
    "def group_function(df):\n",
    "    if df['rfm_total_score'] > 9:\n",
    "        return \"Elite Customers\"\n",
    "    elif df['rfm_total_score'] > 5 and df['F_score'] == 4:\n",
    "        return 'Frequent Customers'\n",
    "    elif df['rfm_total_score'] <= 5 and df['F_score'] == 1:\n",
    "        return 'Rare Customer'\n",
    "    elif df['rfm_total_score'] <= 5:\n",
    "        return \"Cost-conscious Customers\"\n",
    "    else:\n",
    "        return 'Moderate Value Customers'"
   ]
  },
  {
   "cell_type": "code",
   "execution_count": 68,
   "id": "e874dd96",
   "metadata": {},
   "outputs": [],
   "source": [
    "RFM['Group']= RFM.apply(group_function,axis=1)\n",
    "if(len(RFM.columns) == 9):\n",
    "    RFM.reset_index(inplace=True)\n",
    "customer_segments_df = RFM[['Customer ID', 'Group']]\n",
    "customer_segments_df = customer_segments_df.reset_index(drop=True)\n",
    "customer_segments_df\n",
    "customer_segments_df.to_csv('customer_segments.csv')"
   ]
  }
 ],
 "metadata": {
  "kernelspec": {
   "display_name": "Python 3 (ipykernel)",
   "language": "python",
   "name": "python3"
  },
  "language_info": {
   "codemirror_mode": {
    "name": "ipython",
    "version": 3
   },
   "file_extension": ".py",
   "mimetype": "text/x-python",
   "name": "python",
   "nbconvert_exporter": "python",
   "pygments_lexer": "ipython3",
   "version": "3.9.16"
  }
 },
 "nbformat": 4,
 "nbformat_minor": 5
}
