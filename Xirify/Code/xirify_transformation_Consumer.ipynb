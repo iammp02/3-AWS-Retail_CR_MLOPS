{
 "cells": [
  {
   "cell_type": "code",
   "execution_count": 10,
   "metadata": {},
   "outputs": [],
   "source": [
    "import pandas as pd\n",
    "import numpy as np\n",
    "import re \n",
    "from datetime import datetime, timedelta "
   ]
  },
  {
   "cell_type": "code",
   "execution_count": 11,
   "metadata": {},
   "outputs": [],
   "source": [
    "df2=pd.read_excel('G:/VSCodePlayGround/xirify/xirify-data/consumers.xlsx', index_col=0)\n"
   ]
  },
  {
   "cell_type": "code",
   "execution_count": 12,
   "metadata": {},
   "outputs": [],
   "source": [
    "df2.drop(['agreementAcceptedVersion','agreementAccepted','campaignId','favoritebusiness','lastLogin','laterDate','ratingDate','role'],inplace=True,axis=1)"
   ]
  },
  {
   "cell_type": "code",
   "execution_count": 13,
   "metadata": {},
   "outputs": [],
   "source": [
    "df2[\"email\"].replace(to_replace=np.nan,value='Not Provided',inplace=True)\n",
    "df2[\"isRatingGiven\"].replace(to_replace=np.nan,value='No_Rating',inplace=True)\n",
    "df2[\"ordersAtXirify\"].replace(to_replace=np.nan,value=0,inplace=True)\n",
    "df2[\"promoCode\"].replace(to_replace=np.nan,value='Not Used',inplace=True)\n",
    "df2[\"lastServiceRequestDate\"].fillna('Not Given',inplace=True)\n",
    "df2[\"Updated At(Date)\"]=None\n",
    "df2[\"Updated At(Time)\"]=None\n",
    "for i in df2.index:\n",
    "    timestamp_utc = datetime.strptime(df2.loc[i,\"updatedAt\"], '%Y-%m-%dT%H:%M:%S.%fZ')\n",
    "# Convert to IST by adding 5 hours and 30 minutes (IST is UTC+5:30)\n",
    "    timestamp_ist = timestamp_utc + timedelta(hours=5, minutes=30)\n",
    "# Extract date and time components\n",
    "    df2.loc[i,\"Updated At(Date)\"] = timestamp_ist.date()\n",
    "    df2.loc[i,\"Updated At(Time)\"] = timestamp_ist.time()\n",
    "\n",
    "df2[\"Created At(Date)\"]=None\n",
    "df2[\"Created At(Time)\"]=None\n",
    "for i in df2.index:\n",
    "    timestamp_utc = datetime.strptime(df2.loc[i,\"createdAt\"], '%Y-%m-%dT%H:%M:%S.%fZ')\n",
    "# Convert to IST by adding 5 hours and 30 minutes (IST is UTC+5:30)\n",
    "    timestamp_ist = timestamp_utc + timedelta(hours=5, minutes=30)\n",
    "# Extract date and time components\n",
    "    df2.loc[i,\"Created At(Date)\"] = timestamp_ist.date()\n",
    "    df2.loc[i,\"Created At(Time)\"] = timestamp_ist.time()\n",
    "\n",
    "df2[\"agreementAcceptedDate\"].replace(to_replace=np.nan,value=\"2026-12-12T00:00:00.000Z\",inplace=True)\n",
    "df2[\"agreementAcceptedDate\"].replace(to_replace=\"0000-00-00T00:00:00.000Z\",value=\"2026-12-12T00:00:00.000Z\",inplace=True)\n",
    "for i in df2.index:\n",
    "    timestamp_utc = datetime.strptime(df2.loc[i,\"agreementAcceptedDate\"], '%Y-%m-%dT%H:%M:%S.%fZ')\n",
    "# Convert to IST by adding 5 hours and 30 minutes (IST is UTC+5:30)\n",
    "    timestamp_ist = timestamp_utc + timedelta(hours=5, minutes=30)\n",
    "# Extract date and time components\n",
    "    df2.loc[i,\"agreementAcceptedDate\"] = timestamp_ist.date()\n",
    "df2[\"agreementAcceptedDate\"].replace(to_replace=\"2026-12-12T00:00:00.000Z\",value='Not Accepted',inplace=True)"
   ]
  },
  {
   "cell_type": "code",
   "execution_count": 14,
   "metadata": {},
   "outputs": [],
   "source": [
    "# df2.to_csv('Transformed_Consumer.csv')"
   ]
  },
  {
   "cell_type": "code",
   "execution_count": null,
   "metadata": {},
   "outputs": [],
   "source": []
  }
 ],
 "metadata": {
  "kernelspec": {
   "display_name": "Python 3",
   "language": "python",
   "name": "python3"
  },
  "language_info": {
   "codemirror_mode": {
    "name": "ipython",
    "version": 3
   },
   "file_extension": ".py",
   "mimetype": "text/x-python",
   "name": "python",
   "nbconvert_exporter": "python",
   "pygments_lexer": "ipython3",
   "version": "3.11.4"
  },
  "orig_nbformat": 4
 },
 "nbformat": 4,
 "nbformat_minor": 2
}
