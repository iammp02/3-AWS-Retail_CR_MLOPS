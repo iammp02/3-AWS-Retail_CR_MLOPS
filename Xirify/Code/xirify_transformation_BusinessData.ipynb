{
 "cells": [
  {
   "cell_type": "markdown",
   "metadata": {},
   "source": [
    "NOTE: \n",
    "1) Import the data which is provided by XIRIFY \n",
    "2) Change the path "
   ]
  },
  {
   "cell_type": "code",
   "execution_count": 264,
   "metadata": {},
   "outputs": [],
   "source": [
    "import numpy as np\n",
    "import pandas as pd\n",
    "import re\n",
    "import ast\n",
    "from datetime import datetime, timedelta "
   ]
  },
  {
   "cell_type": "markdown",
   "metadata": {},
   "source": [
    "Importing Data"
   ]
  },
  {
   "cell_type": "code",
   "execution_count": 265,
   "metadata": {},
   "outputs": [],
   "source": [
    "data = pd.read_excel('G:/VSCodePlayGround/xirify/xirify-data/businesses.xlsx', index_col = 0)"
   ]
  },
  {
   "cell_type": "markdown",
   "metadata": {},
   "source": [
    "Removing Unwanted Columns"
   ]
  },
  {
   "cell_type": "code",
   "execution_count": 266,
   "metadata": {},
   "outputs": [],
   "source": [
    "data.drop(['isPackagingChargesEnabled', 'isPGEnabled', 'address.location', 'businessDashboardCards.campaign', 'businessDashboardCards.cancel', 'businessDashboardCards.orders', 'businessDashboardCards.settlement', 'businessDashboardCards.shoppers', 'businessDashboardCards.userSentiment', 'businessContactName', 'businessVideoLinks', 'cuisineIds', 'paytm', 'pgLinkedAccount.branchName', 'pgLinkedAccount.ifscCode', 'phonePe', 'popular', 'resumeBusinessTime', 'shopAct.number', 'xirifyAssured', 'xirifyPromoted'], axis = 1, inplace = True)"
   ]
  },
  {
   "cell_type": "markdown",
   "metadata": {},
   "source": [
    "Renaming Columns"
   ]
  },
  {
   "cell_type": "code",
   "execution_count": 267,
   "metadata": {},
   "outputs": [],
   "source": [
    "data.rename(columns={'address.city': 'City', 'address.landmark': 'Landmark', 'address.pinCode': 'Pin Code', 'address.state': 'State', 'address.street': 'Street Address', 'amenities': 'Amenities', 'areaBelongsTo': 'Area Belongs To', 'availability.status': 'Availability Status', 'businessId': 'Business ID', 'businessName': 'Business Name', 'businessStatus': 'Business Status', 'businessStatusUpdatedOn': 'Business Status Updated On', 'category': 'Category', 'categoryType': 'Category Type', 'createdAt': 'Created At', 'deliveryByPartnerAccepted': 'Delivery By Partner Accepted', 'description': 'Description', 'foodPreference': 'Food Preference', 'overallRating': 'Overall Rating', 'ownerId': 'Owner ID', 'regionBelongsTo': 'Region Belongs To', 'serviceModes': 'Service Modes', 'serviceableArea': 'Service Able Area', 'sortOrder': 'Sort Order', 'topRated': 'Top Rated', 'uniqueReviewsCount': 'Unique Reviews Count', 'updatedAt': 'Updated At', 'address.shopNo': 'Address Shop Number'}, inplace = True)"
   ]
  },
  {
   "cell_type": "markdown",
   "metadata": {},
   "source": [
    "Removing Unwanted Rows"
   ]
  },
  {
   "cell_type": "code",
   "execution_count": 268,
   "metadata": {},
   "outputs": [],
   "source": [
    "# Function to remove rows with special characters\n",
    "def contains_special_characters(s):\n",
    "    return bool(re.search(r'[][~¦‡™•Å‡£‡•á‡§Ü¬π!@#$%^&*(),.?\":{}|<>]', str(s)))\n",
    "\n",
    "column_names = ['Business ID', 'City']\n",
    "\n",
    "for column in column_names:\n",
    "    data = data[~data[column].apply(contains_special_characters)] \n",
    "\n",
    "# Remove rows have values other then Pune\n",
    "filt = data['City'] != 'Pune'\n",
    "data.drop(index= data[filt].index, inplace = True)\n"
   ]
  },
  {
   "cell_type": "code",
   "execution_count": 269,
   "metadata": {},
   "outputs": [],
   "source": [
    "data['businessDashboardCards.directPayment'] = data['businessDashboardCards.directPayment'].replace({1: True, 0: False})\n",
    "data['businessDashboardCards.onlinePayment'] = data['businessDashboardCards.onlinePayment'].replace({1: True, 0: False})\n",
    "data['isBusinessPreparationTimerEnabled'] = data['isBusinessPreparationTimerEnabled'].replace({1: True, 0: False})\n",
    "data['isCashfreeEnabled'] = data['isCashfreeEnabled'].replace({1: True, 0: False})\n",
    "data['isDeliveryByPartner'] = data['isDeliveryByPartner'].replace({1: True, 0: False})\n",
    "data['isDeliveryPartnerAllowed'] = data['isDeliveryPartnerAllowed'].replace({1: True, 0: False})\n",
    "data['isExotel'] = data['isExotel'].replace({1: True, 0: False})\n",
    "data['isPetpoojaEnabled'] = data['isPetpoojaEnabled'].replace({1: True, 0: False})\n",
    "data['isPreOrder'] = data['isPreOrder'].replace({1: True, 0: False})\n",
    "data['isSerivicePackagingChargesAvailable'] = data['isSerivicePackagingChargesAvailable'].replace({1: True, 0: False})\n",
    "data['isnew'] = data['isnew'].replace({1: True, 0: False})\n",
    "data['paymentMethodOptions.cheque'] = data['paymentMethodOptions.cheque'].replace({1: True, 0: False})\n",
    "data['Top Rated'] = data['Top Rated'].replace({1: True, 0: False})\n",
    "data['xirifyReferral'] = data['xirifyReferral'].replace({1: True, 0: False})\n"
   ]
  },
  {
   "cell_type": "markdown",
   "metadata": {},
   "source": [
    "Changing Data Type"
   ]
  },
  {
   "cell_type": "code",
   "execution_count": 270,
   "metadata": {},
   "outputs": [],
   "source": [
    "# data['businessDashboardCards.directPayment'] = data['businessDashboardCards.directPayment'].astype(bool)"
   ]
  },
  {
   "cell_type": "markdown",
   "metadata": {},
   "source": [
    "Splitting the datetime column into different columns (Date and Time)"
   ]
  },
  {
   "cell_type": "code",
   "execution_count": 271,
   "metadata": {},
   "outputs": [],
   "source": [
    "data[['Business Status Updated On (Date)', 'time_with_z']] = data['Business Status Updated On'].str.split('T', expand=True)\n",
    "data['Business Status Updated On (Time)'] = data['time_with_z'].str.replace('Z', '')\n",
    "data['Business Status Updated On (Time)'] = pd.to_datetime(data['Business Status Updated On (Time)'], format='%H:%M:%S.%f')\n",
    "data.drop(columns=['Business Status Updated On', 'time_with_z'], inplace=True)"
   ]
  },
  {
   "cell_type": "code",
   "execution_count": 272,
   "metadata": {},
   "outputs": [],
   "source": [
    "data[['Created At (Date)', 'time_with_z']] = data['Created At'].str.split('T', expand=True)\n",
    "data['Created At (Time)'] = data['time_with_z'].str.replace('Z', '')\n",
    "data['Created At (Time)'] = pd.to_datetime(data['Created At (Time)'], format='%H:%M:%S.%f')\n",
    "data.drop(columns=['Created At', 'time_with_z'], inplace=True)\n"
   ]
  },
  {
   "cell_type": "code",
   "execution_count": 273,
   "metadata": {},
   "outputs": [],
   "source": [
    "data[['Updated At (Date)', 'time_with_z']] = data['Updated At'].str.split('T', expand=True)\n",
    "data['Updated At (Time)'] = data['time_with_z'].str.replace('Z', '')\n",
    "data['Updated At (Time)'] = pd.to_datetime(data['Updated At (Time)'], format='%H:%M:%S.%f')\n",
    "data.drop(columns=['Updated At', 'time_with_z'], inplace= True)"
   ]
  },
  {
   "cell_type": "code",
   "execution_count": 274,
   "metadata": {},
   "outputs": [],
   "source": [
    "data[['Delivery By Partner Accepted (Date)', 'time_with_z']] = data['Delivery By Partner Accepted'].str.split('T', expand=True)\n",
    "data['Delivery By Partner Accepted (Time)'] = data['time_with_z'].str.replace('Z', '')\n",
    "data['Delivery By Partner Accepted (Time)'] = pd.to_datetime(data['Delivery By Partner Accepted (Time)'], format='%H:%M:%S.%f')\n",
    "data.drop(columns=['Delivery By Partner Accepted', 'time_with_z'], inplace= True)"
   ]
  },
  {
   "cell_type": "code",
   "execution_count": 275,
   "metadata": {},
   "outputs": [],
   "source": [
    "def convert_list(lst):\n",
    "    elements = set(ast.literal_eval(lst)) - {\"NA\"}\n",
    "    if \"Blank\" in elements:\n",
    "        if len(elements) == 1:\n",
    "            return \"\"\n",
    "        elements.remove(\"Blank\")\n",
    "    return \",\".join(sorted(elements))\n",
    "\n",
    "# Apply the conversion function to each element in the array\n",
    "result = [convert_list(lst) for lst in data[\"Food Preference\"]]\n",
    "\n",
    "data[\"Food Preference\"]=result\n",
    "data[\"Food Preference\"].replace('','Not Given',inplace=True)"
   ]
  },
  {
   "cell_type": "code",
   "execution_count": 276,
   "metadata": {},
   "outputs": [],
   "source": [
    "# data.to_csv('Transformed_BusinessData.csv')\n"
   ]
  },
  {
   "cell_type": "code",
   "execution_count": null,
   "metadata": {},
   "outputs": [],
   "source": []
  },
  {
   "cell_type": "code",
   "execution_count": null,
   "metadata": {},
   "outputs": [],
   "source": []
  },
  {
   "cell_type": "code",
   "execution_count": null,
   "metadata": {},
   "outputs": [],
   "source": []
  }
 ],
 "metadata": {
  "kernelspec": {
   "display_name": "Python 3",
   "language": "python",
   "name": "python3"
  },
  "language_info": {
   "codemirror_mode": {
    "name": "ipython",
    "version": 3
   },
   "file_extension": ".py",
   "mimetype": "text/x-python",
   "name": "python",
   "nbconvert_exporter": "python",
   "pygments_lexer": "ipython3",
   "version": "3.11.4"
  },
  "orig_nbformat": 4
 },
 "nbformat": 4,
 "nbformat_minor": 2
}
