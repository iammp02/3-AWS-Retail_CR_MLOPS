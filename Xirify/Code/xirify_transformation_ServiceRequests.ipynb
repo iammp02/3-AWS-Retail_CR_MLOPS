{
 "cells": [
  {
   "cell_type": "markdown",
   "metadata": {},
   "source": [
    "NOTE: \n",
    "1) Import the data which is provided by XIRIFY \n",
    "2) Change the path "
   ]
  },
  {
   "cell_type": "code",
   "execution_count": 45,
   "metadata": {},
   "outputs": [],
   "source": [
    "import numpy as np\n",
    "import pandas as pd\n",
    "import re\n",
    "from datetime import datetime, timedelta \n",
    "from datetime import datetime"
   ]
  },
  {
   "cell_type": "markdown",
   "metadata": {},
   "source": [
    "Importing Data"
   ]
  },
  {
   "cell_type": "code",
   "execution_count": 46,
   "metadata": {},
   "outputs": [],
   "source": [
    "data = pd.read_excel('G:/VSCodePlayGround/xirify/xirify-data/servicerequests.xlsx', index_col = 0)"
   ]
  },
  {
   "cell_type": "markdown",
   "metadata": {},
   "source": [
    "Removing Unwanted Columns"
   ]
  },
  {
   "cell_type": "code",
   "execution_count": 47,
   "metadata": {},
   "outputs": [],
   "source": [
    "data.drop(['appliedBusinessOffer', 'consumerDetails.consumer' ,'consumerDetails.address', 'currentQuote.appliedBusinessOffer', 'items', 'paymentDetails.approvalRefNumber', 'paymentDetails.notes', 'paymentDetails.transactionId', 'paymentDetails.transactionRef', 'title', 'currentQuote.description', 'currentQuote.quotedAmount', 'items', 'paymentDetails.approvalRefNumber', 'paymentDetails.notes', 'pickupOrDeliveryNotes'], axis = 1, inplace = True)"
   ]
  },
  {
   "cell_type": "markdown",
   "metadata": {},
   "source": [
    "Renaming Columns"
   ]
  },
  {
   "cell_type": "code",
   "execution_count": 48,
   "metadata": {},
   "outputs": [],
   "source": [
    "data.rename(columns = {'amount': 'Amount', 'business': 'Business', 'businessId': 'Business ID', 'businessName': 'Business Name', 'consumerDetails.consumerId': 'Consumer ID', 'creationDate': 'Creation Date', 'currentQuote.serviceMode': 'CurrentQuote_ServiceMode', 'currentStatus': 'Service Status', 'isReviewActive': 'Is Review Active', 'ordersOnXirify': 'Orders On Xirify', 'paymentDetails.dateOfTransaction': 'PaymentDetails_DateOfTransaction', 'paymentDetails.paymentMethod': 'PaymentDetails_PaymentMethod', 'paymentDetails.responseCode': 'PaymentDetails_ResponseCode', 'paymentStatus': 'Payment Status', 'preferredServiceDate': 'Preferred Service Date', 'preferredServiceMode': 'Preferred Service Mode', 'rating': 'Rating', 'review': 'Review', 'serviceMode': 'Service Mode', 'serviceRequestId': 'Service Request ID'}, inplace=True)"
   ]
  },
  {
   "cell_type": "markdown",
   "metadata": {},
   "source": [
    "Removing Unwanted Rows"
   ]
  },
  {
   "cell_type": "code",
   "execution_count": 49,
   "metadata": {},
   "outputs": [],
   "source": [
    "# Function to remove rows with special characters\n",
    "def contains_special_characters(s):\n",
    "    return bool(re.search(r'[]ì[~¦‡™•Å‡£‡•á‡§Ü¬π!@#$%^&*(),.?\":{}|<>]', str(s)))\n",
    "\n",
    "column_names = ['Business ID', 'Consumer ID', 'Service Request ID']\n",
    "\n",
    "for column in column_names:\n",
    "    data = data[~data[column].apply(contains_special_characters)] "
   ]
  },
  {
   "cell_type": "markdown",
   "metadata": {},
   "source": [
    "Splitting the datetime column into different columns (Date and Time)"
   ]
  },
  {
   "cell_type": "code",
   "execution_count": 50,
   "metadata": {},
   "outputs": [],
   "source": [
    "data[['PaymentDetails_DateOfTransaction (Date)', 'time_with_z']] = data['PaymentDetails_DateOfTransaction'].str.split('T', expand=True)\n",
    "data['PaymentDetails_DateOfTransaction (Time)'] = data['time_with_z'].str.replace('Z', '')\n",
    "data['PaymentDetails_DateOfTransaction (Time)'] = pd.to_datetime(data['PaymentDetails_DateOfTransaction (Time)'], format='%H:%M:%S.%f')\n",
    "data.drop(columns=['PaymentDetails_DateOfTransaction', 'time_with_z'], inplace= True)"
   ]
  },
  {
   "cell_type": "code",
   "execution_count": 51,
   "metadata": {},
   "outputs": [],
   "source": [
    "data[['Preferred Service Date (Date)', 'time_with_z']] = data['Preferred Service Date'].str.split('T', expand=True)\n",
    "data['Preferred Service Date (Time)'] = data['time_with_z'].str.replace('Z', '')\n",
    "data['Preferred Service Date (Time)'] = pd.to_datetime(data['Preferred Service Date (Time)'], format='%H:%M:%S.%f')\n",
    "data.drop(columns=['Preferred Service Date', 'time_with_z'], inplace= True)"
   ]
  },
  {
   "cell_type": "code",
   "execution_count": 52,
   "metadata": {},
   "outputs": [],
   "source": [
    "data['PaymentDetails_DateOfTransaction (Date)'] = pd.to_datetime(data['PaymentDetails_DateOfTransaction (Date)'], format='%Y-%m-%d')\n",
    "data['PaymentDetails_DateOfTransaction (MonthName)'] = data['PaymentDetails_DateOfTransaction (Date)'].dt.strftime('%B')"
   ]
  },
  {
   "cell_type": "markdown",
   "metadata": {},
   "source": [
    "Download the transformed data as csv file"
   ]
  },
  {
   "cell_type": "code",
   "execution_count": 53,
   "metadata": {},
   "outputs": [],
   "source": [
    "# data.to_csv('Transformed_ServiceRequest.csv')"
   ]
  },
  {
   "cell_type": "code",
   "execution_count": null,
   "metadata": {},
   "outputs": [],
   "source": [
    "\n"
   ]
  },
  {
   "cell_type": "code",
   "execution_count": null,
   "metadata": {},
   "outputs": [],
   "source": []
  }
 ],
 "metadata": {
  "kernelspec": {
   "display_name": "Python 3",
   "language": "python",
   "name": "python3"
  },
  "language_info": {
   "codemirror_mode": {
    "name": "ipython",
    "version": 3
   },
   "file_extension": ".py",
   "mimetype": "text/x-python",
   "name": "python",
   "nbconvert_exporter": "python",
   "pygments_lexer": "ipython3",
   "version": "3.11.4"
  },
  "orig_nbformat": 4
 },
 "nbformat": 4,
 "nbformat_minor": 2
}
