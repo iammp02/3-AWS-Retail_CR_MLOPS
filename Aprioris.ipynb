{
 "cells": [
  {
   "cell_type": "code",
   "execution_count": 29,
   "id": "5caea967",
   "metadata": {},
   "outputs": [
    {
     "name": "stdout",
     "output_type": "stream",
     "text": [
      "*** Total number of rules formulated: 5 ***\n",
      "Market Basket Analysis Rules\n",
      "\n",
      "Item set 1: 'other vegetables', 'root vegetables', 'brown bread'\n",
      "Item set 2: 'whole milk'\n",
      "confidence = 77.5%\n",
      "\n",
      "Item set 1: 'butter', 'root vegetables', 'yogurt'\n",
      "Item set 2: 'whole milk'\n",
      "confidence = 78.95%\n",
      "\n",
      "Item set 1: 'tropical fruit', 'root vegetables', 'citrus fruit'\n",
      "Item set 2: 'other vegetables'\n",
      "confidence = 78.57%\n",
      "\n",
      "Item set 1: 'tropical fruit', 'root vegetables', 'whipped/sour cream'\n",
      "Item set 2: 'other vegetables'\n",
      "confidence = 73.33%\n",
      "\n",
      "Item set 1: 'tropical fruit', 'root vegetables', 'whole milk', 'citrus fruit'\n",
      "Item set 2: 'other vegetables'\n",
      "confidence = 88.57%\n",
      "\n"
     ]
    }
   ],
   "source": [
    "#MP\n",
    "import pandas as pd\n",
    "from apyori import apriori\n",
    "\n",
    "dataset = pd.read_csv('./dt.csv', header = None)\n",
    "\n",
    "transactions = []\n",
    "for k in range(1,9836):\n",
    "    transaction_t = [str(dataset[i][k]) for i in range(31)]\n",
    "    transaction = [x for x in transaction_t if x != 'nan']\n",
    "    transactions.append(transaction)\n",
    "\n",
    "rules = list(apriori(transactions, min_support = 0.003, min_confidence = 0.70, min_lift = 3, min_length = 2))\n",
    "\n",
    "\n",
    "print(f\"*** Total number of rules formulated: {len(rules)} ***\")\n",
    "print(\"Market Basket Analysis Rules\", end=\"\\n\\n\")\n",
    "\n",
    "\n",
    "for i in rules:\n",
    "    base_item_set = str(i[2][0].items_base).removeprefix(\"frozenset({\").removesuffix(\"})\")\n",
    "    add_item_set = str(i[2][0].items_add).removeprefix(\"frozenset({\").removesuffix(\"})\")\n",
    "    confidence = f\"{round(i[2][0].confidence * 100,2)}%\"\n",
    "    print(f\"Item set 1: {base_item_set}\\nItem set 2: {add_item_set}\\nconfidence = {confidence}\", end=\"\\n\\n\")"
   ]
  }
 ],
 "metadata": {
  "kernelspec": {
   "display_name": "Python 3 (ipykernel)",
   "language": "python",
   "name": "python3"
  },
  "language_info": {
   "codemirror_mode": {
    "name": "ipython",
    "version": 3
   },
   "file_extension": ".py",
   "mimetype": "text/x-python",
   "name": "python",
   "nbconvert_exporter": "python",
   "pygments_lexer": "ipython3",
   "version": "3.9.7"
  }
 },
 "nbformat": 4,
 "nbformat_minor": 5
}
